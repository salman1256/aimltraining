{
 "cells": [
  {
   "cell_type": "code",
   "execution_count": 1,
   "id": "ea1d6b03-a61d-4de7-a217-c291447d67c0",
   "metadata": {},
   "outputs": [],
   "source": [
    "import pandas as pd\n",
    "import numpy as np"
   ]
  },
  {
   "cell_type": "code",
   "execution_count": 2,
   "id": "b1c3dc05-c0e6-4721-a6f1-31b3a9bcbdf4",
   "metadata": {},
   "outputs": [
    {
     "name": "stdout",
     "output_type": "stream",
     "text": [
      "    Name  Age  Marks\n",
      "0   John   20     85\n",
      "1  Alice   22     90\n",
      "2    Bob   21     78\n",
      "3   Sara   23     92\n",
      "4    Sam   25     90\n",
      "5  Rohit   23     45\n"
     ]
    }
   ],
   "source": [
    "df=pd.read_excel('students.xlsx')\n",
    "print(df)"
   ]
  },
  {
   "cell_type": "code",
   "execution_count": 5,
   "id": "4e9cb7bc-3067-49a0-9911-dfcb6a7e3a50",
   "metadata": {},
   "outputs": [
    {
     "name": "stdout",
     "output_type": "stream",
     "text": [
      "Numpy Array of Marks\n",
      "[85 90 78 92 90 45]\n"
     ]
    }
   ],
   "source": [
    "marks=df['Marks'].to_numpy()\n",
    "print('Numpy Array of Marks')\n",
    "print(marks)"
   ]
  },
  {
   "cell_type": "code",
   "execution_count": 6,
   "id": "abae06e5-c7cb-4c19-b2c2-9637fe094493",
   "metadata": {},
   "outputs": [
    {
     "name": "stdout",
     "output_type": "stream",
     "text": [
      "Highest Marks  92\n"
     ]
    }
   ],
   "source": [
    "print('Highest Marks ',np.max(marks))"
   ]
  },
  {
   "cell_type": "code",
   "execution_count": 7,
   "id": "0da5565c-3103-476e-9444-c2ce0aa1906e",
   "metadata": {},
   "outputs": [
    {
     "name": "stdout",
     "output_type": "stream",
     "text": [
      "Lowest Marks  45\n"
     ]
    }
   ],
   "source": [
    "print('Lowest Marks ',np.min(marks))"
   ]
  },
  {
   "cell_type": "code",
   "execution_count": 9,
   "id": "eb74f8f9-19f6-48de-9029-bd085071d699",
   "metadata": {},
   "outputs": [
    {
     "name": "stdout",
     "output_type": "stream",
     "text": [
      "Average Marks  80.0\n"
     ]
    }
   ],
   "source": [
    "print('Average Marks ',np.mean(marks))"
   ]
  },
  {
   "cell_type": "markdown",
   "id": "918a24c5-ceb6-4671-8468-9d7b706a6b77",
   "metadata": {},
   "source": [
    "# .loc: Label Based\n",
    "# .iloc: index Based\n"
   ]
  },
  {
   "cell_type": "code",
   "execution_count": 23,
   "id": "5e7f7f98-a215-4802-84b1-608576316d89",
   "metadata": {},
   "outputs": [
    {
     "name": "stdout",
     "output_type": "stream",
     "text": [
      "original dataframe\n",
      "    Name  Age  Marks\n",
      "0   John   20     85\n",
      "1  Alice   22     90\n",
      "2    Bob   21     78\n",
      "3   Sara   23     92\n",
      "4    Sam   25     90\n",
      "5  Rohit   23     45\n",
      "Location : Label Based\n",
      "Name     Bob\n",
      "Marks     78\n",
      "Name: 2, dtype: object\n"
     ]
    }
   ],
   "source": [
    "print('original dataframe')\n",
    "print(df)\n",
    "print('Location : Label Based')\n",
    "print(df.loc[2,['Name','Marks']])"
   ]
  },
  {
   "cell_type": "code",
   "execution_count": 26,
   "id": "f366424c-fb6d-4d68-8caa-587499ffe7fa",
   "metadata": {},
   "outputs": [
    {
     "name": "stdout",
     "output_type": "stream",
     "text": [
      "original dataframe\n",
      "    Name  Age  Marks\n",
      "0   John   20     85\n",
      "1  Alice   22     90\n",
      "2    Bob   21     78\n",
      "3   Sara   23     92\n",
      "4    Sam   25     90\n",
      "5  Rohit   23     45\n",
      "Location : index Based\n",
      "Age      21\n",
      "Marks    78\n",
      "Name: 2, dtype: object\n"
     ]
    }
   ],
   "source": [
    "print('original dataframe')\n",
    "print(df)\n",
    "print('Location : index Based')\n",
    "print(df.iloc[2,[1,2]])"
   ]
  },
  {
   "cell_type": "markdown",
   "id": "3a5e5410-1e6e-4ffe-b14f-5f112f8b7d56",
   "metadata": {},
   "source": [
    "# Axis in Numpy :\n",
    "    1. Axis 0 : vertical direction: works column-wise\n",
    "    2. Axis 1 : horizontal direction: works row-wise\n",
    "    \n"
   ]
  },
  {
   "cell_type": "markdown",
   "id": "4bddba5d-8d0f-4f14-bdb9-718e71c4665b",
   "metadata": {},
   "source": [
    "# We have two students marks in 3 subjects\n",
    "    # [[45,50,49],[30,45,49]]\n",
    "\n",
    "    "
   ]
  },
  {
   "cell_type": "code",
   "execution_count": 30,
   "id": "b04f071e-6b07-4489-89fd-32a1cfbb1c7d",
   "metadata": {},
   "outputs": [
    {
     "name": "stdout",
     "output_type": "stream",
     "text": [
      "[[ 5  2  9]\n",
      " [10 40 60]]\n"
     ]
    }
   ],
   "source": [
    "marks_arr=np.array([[5,2,9],[10,40,60]])\n",
    "print(marks_arr)"
   ]
  },
  {
   "cell_type": "code",
   "execution_count": 31,
   "id": "6455bcb1-8689-4c3d-a823-275bb01d91c1",
   "metadata": {},
   "outputs": [
    {
     "name": "stdout",
     "output_type": "stream",
     "text": [
      "Sum down each column [15 42 69]\n"
     ]
    }
   ],
   "source": [
    "print('Sum down each column',np.sum(marks_arr,axis=0))"
   ]
  },
  {
   "cell_type": "code",
   "execution_count": 32,
   "id": "5ccbbded-47a7-4e48-91e7-f61bc317b709",
   "metadata": {},
   "outputs": [
    {
     "name": "stdout",
     "output_type": "stream",
     "text": [
      "Sum down each row [ 16 110]\n"
     ]
    }
   ],
   "source": [
    "print('Sum down each row',np.sum(marks_arr,axis=1))"
   ]
  },
  {
   "cell_type": "code",
   "execution_count": 33,
   "id": "b992ca76-4884-477e-9b0b-5e442c355d18",
   "metadata": {},
   "outputs": [
    {
     "name": "stdout",
     "output_type": "stream",
     "text": [
      "Numpy Array of Marks\n",
      "[85 90 78 92 90 45]\n"
     ]
    }
   ],
   "source": [
    "print('Numpy Array of Marks')\n",
    "print(marks)"
   ]
  },
  {
   "cell_type": "code",
   "execution_count": 34,
   "id": "f760fa99-52fd-4e18-8da5-0babff9c5591",
   "metadata": {},
   "outputs": [
    {
     "name": "stdout",
     "output_type": "stream",
     "text": [
      "    Name  Age  Marks\n",
      "0   John   20     85\n",
      "1  Alice   22     90\n",
      "2    Bob   21     78\n",
      "3   Sara   23     92\n",
      "4    Sam   25     90\n",
      "5  Rohit   23     45\n"
     ]
    }
   ],
   "source": [
    "print(df)"
   ]
  },
  {
   "cell_type": "markdown",
   "id": "0f32449d-10cd-4399-a540-0976144e086b",
   "metadata": {},
   "source": [
    "# Find the Student Name who got highest marks"
   ]
  },
  {
   "cell_type": "code",
   "execution_count": 42,
   "id": "34cde3d0-6d45-42d0-b87c-bb5b82b59a31",
   "metadata": {},
   "outputs": [
    {
     "name": "stdout",
     "output_type": "stream",
     "text": [
      "Sara\n"
     ]
    }
   ],
   "source": [
    "topper=df.loc[df['Marks'].idxmax(),'Name']\n",
    "print(topper)"
   ]
  },
  {
   "cell_type": "code",
   "execution_count": 43,
   "id": "3bd7901a-521b-4db6-830d-2a6e7c1c3e53",
   "metadata": {},
   "outputs": [
    {
     "name": "stdout",
     "output_type": "stream",
     "text": [
      "Rohit\n"
     ]
    }
   ],
   "source": [
    "lastinclass=df.loc[df['Marks'].idxmin(),'Name']\n",
    "print(lastinclass)"
   ]
  },
  {
   "cell_type": "code",
   "execution_count": 47,
   "id": "349cf05a-fa32-458e-ba3b-6de4c5a3d315",
   "metadata": {},
   "outputs": [
    {
     "name": "stdout",
     "output_type": "stream",
     "text": [
      "Next Example\n"
     ]
    }
   ],
   "source": [
    "print('Next Example')"
   ]
  },
  {
   "cell_type": "code",
   "execution_count": 51,
   "id": "cf3ad017-b702-443b-a268-6080662a4db5",
   "metadata": {},
   "outputs": [
    {
     "name": "stdout",
     "output_type": "stream",
     "text": [
      "Topper of the Class is:  Sara\n"
     ]
    }
   ],
   "source": [
    "top_index = df['Marks'].idxmax()\n",
    "top_student=df.iloc[top_index,df.columns.get_loc('Name')]\n",
    "print('Topper of the Class is: ',top_student)"
   ]
  },
  {
   "cell_type": "code",
   "execution_count": null,
   "id": "e730d78d-b728-4192-a7fe-97a1f6c44d06",
   "metadata": {},
   "outputs": [],
   "source": []
  }
 ],
 "metadata": {
  "kernelspec": {
   "display_name": "Python 3 (ipykernel)",
   "language": "python",
   "name": "python3"
  },
  "language_info": {
   "codemirror_mode": {
    "name": "ipython",
    "version": 3
   },
   "file_extension": ".py",
   "mimetype": "text/x-python",
   "name": "python",
   "nbconvert_exporter": "python",
   "pygments_lexer": "ipython3",
   "version": "3.13.5"
  }
 },
 "nbformat": 4,
 "nbformat_minor": 5
}
