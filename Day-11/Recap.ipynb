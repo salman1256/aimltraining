{
 "cells": [
  {
   "cell_type": "markdown",
   "id": "47bd0b9a-4222-4b57-8df8-d004894381c1",
   "metadata": {},
   "source": [
    "# Basic Panada Example to read out from an excel file\n"
   ]
  },
  {
   "cell_type": "code",
   "execution_count": 1,
   "id": "0a0818d7-ca6c-4c95-bf93-ef6857e9ceea",
   "metadata": {},
   "outputs": [],
   "source": [
    "import pandas as pd"
   ]
  },
  {
   "cell_type": "code",
   "execution_count": 2,
   "id": "9bc5b541-b008-4fe5-acd7-b27ea3d31d31",
   "metadata": {},
   "outputs": [],
   "source": [
    "df=pd.read_excel(\"students.xlsx\")"
   ]
  },
  {
   "cell_type": "code",
   "execution_count": 3,
   "id": "3a66cea5-5422-4e6a-81df-791240e20891",
   "metadata": {},
   "outputs": [
    {
     "name": "stdout",
     "output_type": "stream",
     "text": [
      "Printing Data Frame  as follows\n"
     ]
    },
    {
     "data": {
      "text/html": [
       "<div>\n",
       "<style scoped>\n",
       "    .dataframe tbody tr th:only-of-type {\n",
       "        vertical-align: middle;\n",
       "    }\n",
       "\n",
       "    .dataframe tbody tr th {\n",
       "        vertical-align: top;\n",
       "    }\n",
       "\n",
       "    .dataframe thead th {\n",
       "        text-align: right;\n",
       "    }\n",
       "</style>\n",
       "<table border=\"1\" class=\"dataframe\">\n",
       "  <thead>\n",
       "    <tr style=\"text-align: right;\">\n",
       "      <th></th>\n",
       "      <th>Name</th>\n",
       "      <th>Age</th>\n",
       "      <th>Marks</th>\n",
       "    </tr>\n",
       "  </thead>\n",
       "  <tbody>\n",
       "    <tr>\n",
       "      <th>0</th>\n",
       "      <td>John</td>\n",
       "      <td>20</td>\n",
       "      <td>85</td>\n",
       "    </tr>\n",
       "    <tr>\n",
       "      <th>1</th>\n",
       "      <td>Alice</td>\n",
       "      <td>22</td>\n",
       "      <td>90</td>\n",
       "    </tr>\n",
       "    <tr>\n",
       "      <th>2</th>\n",
       "      <td>Bob</td>\n",
       "      <td>21</td>\n",
       "      <td>78</td>\n",
       "    </tr>\n",
       "    <tr>\n",
       "      <th>3</th>\n",
       "      <td>Sara</td>\n",
       "      <td>23</td>\n",
       "      <td>92</td>\n",
       "    </tr>\n",
       "    <tr>\n",
       "      <th>4</th>\n",
       "      <td>Sam</td>\n",
       "      <td>25</td>\n",
       "      <td>90</td>\n",
       "    </tr>\n",
       "    <tr>\n",
       "      <th>5</th>\n",
       "      <td>Rohit</td>\n",
       "      <td>23</td>\n",
       "      <td>45</td>\n",
       "    </tr>\n",
       "  </tbody>\n",
       "</table>\n",
       "</div>"
      ],
      "text/plain": [
       "    Name  Age  Marks\n",
       "0   John   20     85\n",
       "1  Alice   22     90\n",
       "2    Bob   21     78\n",
       "3   Sara   23     92\n",
       "4    Sam   25     90\n",
       "5  Rohit   23     45"
      ]
     },
     "execution_count": 3,
     "metadata": {},
     "output_type": "execute_result"
    }
   ],
   "source": [
    "print('Printing Data Frame  as follows')\n",
    "df"
   ]
  },
  {
   "cell_type": "code",
   "execution_count": 6,
   "id": "5c371117-6d87-4b5c-b5a5-2b9517f54695",
   "metadata": {},
   "outputs": [],
   "source": [
    "dfpatients=pd.read_csv(\"C:/Users/salma/OneDrive/Desktop/aimltraining/Day-10/patients.csv\")"
   ]
  },
  {
   "cell_type": "code",
   "execution_count": 7,
   "id": "60287c8e-2a02-428b-a5bf-a8231b266c5d",
   "metadata": {},
   "outputs": [
    {
     "data": {
      "text/html": [
       "<div>\n",
       "<style scoped>\n",
       "    .dataframe tbody tr th:only-of-type {\n",
       "        vertical-align: middle;\n",
       "    }\n",
       "\n",
       "    .dataframe tbody tr th {\n",
       "        vertical-align: top;\n",
       "    }\n",
       "\n",
       "    .dataframe thead th {\n",
       "        text-align: right;\n",
       "    }\n",
       "</style>\n",
       "<table border=\"1\" class=\"dataframe\">\n",
       "  <thead>\n",
       "    <tr style=\"text-align: right;\">\n",
       "      <th></th>\n",
       "      <th>patient_id</th>\n",
       "      <th>name</th>\n",
       "      <th>age</th>\n",
       "      <th>arrival_date</th>\n",
       "      <th>departure_date</th>\n",
       "      <th>service</th>\n",
       "      <th>satisfaction</th>\n",
       "    </tr>\n",
       "  </thead>\n",
       "  <tbody>\n",
       "    <tr>\n",
       "      <th>0</th>\n",
       "      <td>PAT-09484753</td>\n",
       "      <td>Richard Rodriguez</td>\n",
       "      <td>24</td>\n",
       "      <td>2025-03-16</td>\n",
       "      <td>2025-03-22</td>\n",
       "      <td>surgery</td>\n",
       "      <td>61</td>\n",
       "    </tr>\n",
       "    <tr>\n",
       "      <th>1</th>\n",
       "      <td>PAT-f0644084</td>\n",
       "      <td>Shannon Walker</td>\n",
       "      <td>6</td>\n",
       "      <td>2025-12-13</td>\n",
       "      <td>2025-12-14</td>\n",
       "      <td>surgery</td>\n",
       "      <td>83</td>\n",
       "    </tr>\n",
       "    <tr>\n",
       "      <th>2</th>\n",
       "      <td>PAT-ac6162e4</td>\n",
       "      <td>Julia Torres</td>\n",
       "      <td>24</td>\n",
       "      <td>2025-06-29</td>\n",
       "      <td>2025-07-05</td>\n",
       "      <td>general_medicine</td>\n",
       "      <td>83</td>\n",
       "    </tr>\n",
       "    <tr>\n",
       "      <th>3</th>\n",
       "      <td>PAT-3dda2bb5</td>\n",
       "      <td>Crystal Johnson</td>\n",
       "      <td>32</td>\n",
       "      <td>2025-10-12</td>\n",
       "      <td>2025-10-23</td>\n",
       "      <td>emergency</td>\n",
       "      <td>81</td>\n",
       "    </tr>\n",
       "    <tr>\n",
       "      <th>4</th>\n",
       "      <td>PAT-08591375</td>\n",
       "      <td>Garrett Lin</td>\n",
       "      <td>25</td>\n",
       "      <td>2025-02-18</td>\n",
       "      <td>2025-02-25</td>\n",
       "      <td>ICU</td>\n",
       "      <td>76</td>\n",
       "    </tr>\n",
       "    <tr>\n",
       "      <th>...</th>\n",
       "      <td>...</td>\n",
       "      <td>...</td>\n",
       "      <td>...</td>\n",
       "      <td>...</td>\n",
       "      <td>...</td>\n",
       "      <td>...</td>\n",
       "      <td>...</td>\n",
       "    </tr>\n",
       "    <tr>\n",
       "      <th>995</th>\n",
       "      <td>PAT-a01bf534</td>\n",
       "      <td>Amber Vang</td>\n",
       "      <td>26</td>\n",
       "      <td>2025-12-02</td>\n",
       "      <td>2025-12-04</td>\n",
       "      <td>emergency</td>\n",
       "      <td>91</td>\n",
       "    </tr>\n",
       "    <tr>\n",
       "      <th>996</th>\n",
       "      <td>PAT-87fa07bd</td>\n",
       "      <td>Martha Smith</td>\n",
       "      <td>89</td>\n",
       "      <td>2025-11-18</td>\n",
       "      <td>2025-11-30</td>\n",
       "      <td>emergency</td>\n",
       "      <td>99</td>\n",
       "    </tr>\n",
       "    <tr>\n",
       "      <th>997</th>\n",
       "      <td>PAT-8f07e894</td>\n",
       "      <td>Jennifer James</td>\n",
       "      <td>72</td>\n",
       "      <td>2025-12-12</td>\n",
       "      <td>2025-12-21</td>\n",
       "      <td>ICU</td>\n",
       "      <td>69</td>\n",
       "    </tr>\n",
       "    <tr>\n",
       "      <th>998</th>\n",
       "      <td>PAT-4ae301e1</td>\n",
       "      <td>Kara Hernandez</td>\n",
       "      <td>47</td>\n",
       "      <td>2025-02-08</td>\n",
       "      <td>2025-02-20</td>\n",
       "      <td>ICU</td>\n",
       "      <td>61</td>\n",
       "    </tr>\n",
       "    <tr>\n",
       "      <th>999</th>\n",
       "      <td>PAT-e2ef9c5f</td>\n",
       "      <td>Lorraine Turner</td>\n",
       "      <td>64</td>\n",
       "      <td>2025-05-04</td>\n",
       "      <td>2025-05-08</td>\n",
       "      <td>general_medicine</td>\n",
       "      <td>83</td>\n",
       "    </tr>\n",
       "  </tbody>\n",
       "</table>\n",
       "<p>1000 rows × 7 columns</p>\n",
       "</div>"
      ],
      "text/plain": [
       "       patient_id               name  age arrival_date departure_date  \\\n",
       "0    PAT-09484753  Richard Rodriguez   24   2025-03-16     2025-03-22   \n",
       "1    PAT-f0644084     Shannon Walker    6   2025-12-13     2025-12-14   \n",
       "2    PAT-ac6162e4       Julia Torres   24   2025-06-29     2025-07-05   \n",
       "3    PAT-3dda2bb5    Crystal Johnson   32   2025-10-12     2025-10-23   \n",
       "4    PAT-08591375        Garrett Lin   25   2025-02-18     2025-02-25   \n",
       "..            ...                ...  ...          ...            ...   \n",
       "995  PAT-a01bf534         Amber Vang   26   2025-12-02     2025-12-04   \n",
       "996  PAT-87fa07bd       Martha Smith   89   2025-11-18     2025-11-30   \n",
       "997  PAT-8f07e894     Jennifer James   72   2025-12-12     2025-12-21   \n",
       "998  PAT-4ae301e1     Kara Hernandez   47   2025-02-08     2025-02-20   \n",
       "999  PAT-e2ef9c5f    Lorraine Turner   64   2025-05-04     2025-05-08   \n",
       "\n",
       "              service  satisfaction  \n",
       "0             surgery            61  \n",
       "1             surgery            83  \n",
       "2    general_medicine            83  \n",
       "3           emergency            81  \n",
       "4                 ICU            76  \n",
       "..                ...           ...  \n",
       "995         emergency            91  \n",
       "996         emergency            99  \n",
       "997               ICU            69  \n",
       "998               ICU            61  \n",
       "999  general_medicine            83  \n",
       "\n",
       "[1000 rows x 7 columns]"
      ]
     },
     "execution_count": 7,
     "metadata": {},
     "output_type": "execute_result"
    }
   ],
   "source": [
    "dfpatients"
   ]
  },
  {
   "cell_type": "code",
   "execution_count": 8,
   "id": "7b4bf7d1-3924-4392-a77d-e343b9ab2530",
   "metadata": {},
   "outputs": [
    {
     "data": {
      "text/plain": [
       "0      Richard Rodriguez\n",
       "1         Shannon Walker\n",
       "2           Julia Torres\n",
       "3        Crystal Johnson\n",
       "4            Garrett Lin\n",
       "             ...        \n",
       "995           Amber Vang\n",
       "996         Martha Smith\n",
       "997       Jennifer James\n",
       "998       Kara Hernandez\n",
       "999      Lorraine Turner\n",
       "Name: name, Length: 1000, dtype: object"
      ]
     },
     "execution_count": 8,
     "metadata": {},
     "output_type": "execute_result"
    }
   ],
   "source": [
    "dfpatients['name']"
   ]
  },
  {
   "cell_type": "code",
   "execution_count": 9,
   "id": "d734b73e-9017-45d8-86f1-88d4e656bf02",
   "metadata": {},
   "outputs": [
    {
     "name": "stdout",
     "output_type": "stream",
     "text": [
      "0      Richard Rodriguez\n",
      "1         Shannon Walker\n",
      "2           Julia Torres\n",
      "3        Crystal Johnson\n",
      "4            Garrett Lin\n",
      "             ...        \n",
      "995           Amber Vang\n",
      "996         Martha Smith\n",
      "997       Jennifer James\n",
      "998       Kara Hernandez\n",
      "999      Lorraine Turner\n",
      "Name: name, Length: 1000, dtype: object\n"
     ]
    }
   ],
   "source": [
    "print(dfpatients['name'])"
   ]
  },
  {
   "cell_type": "markdown",
   "id": "ff637675-2b4f-410d-9a1c-43bebe32cb77",
   "metadata": {},
   "source": [
    "## head in dataframe"
   ]
  },
  {
   "cell_type": "code",
   "execution_count": 10,
   "id": "caa58940-3db6-466b-af79-bdea18032ba0",
   "metadata": {},
   "outputs": [
    {
     "data": {
      "text/html": [
       "<div>\n",
       "<style scoped>\n",
       "    .dataframe tbody tr th:only-of-type {\n",
       "        vertical-align: middle;\n",
       "    }\n",
       "\n",
       "    .dataframe tbody tr th {\n",
       "        vertical-align: top;\n",
       "    }\n",
       "\n",
       "    .dataframe thead th {\n",
       "        text-align: right;\n",
       "    }\n",
       "</style>\n",
       "<table border=\"1\" class=\"dataframe\">\n",
       "  <thead>\n",
       "    <tr style=\"text-align: right;\">\n",
       "      <th></th>\n",
       "      <th>Name</th>\n",
       "      <th>Age</th>\n",
       "      <th>Marks</th>\n",
       "    </tr>\n",
       "  </thead>\n",
       "  <tbody>\n",
       "    <tr>\n",
       "      <th>0</th>\n",
       "      <td>John</td>\n",
       "      <td>20</td>\n",
       "      <td>85</td>\n",
       "    </tr>\n",
       "    <tr>\n",
       "      <th>1</th>\n",
       "      <td>Alice</td>\n",
       "      <td>22</td>\n",
       "      <td>90</td>\n",
       "    </tr>\n",
       "    <tr>\n",
       "      <th>2</th>\n",
       "      <td>Bob</td>\n",
       "      <td>21</td>\n",
       "      <td>78</td>\n",
       "    </tr>\n",
       "    <tr>\n",
       "      <th>3</th>\n",
       "      <td>Sara</td>\n",
       "      <td>23</td>\n",
       "      <td>92</td>\n",
       "    </tr>\n",
       "    <tr>\n",
       "      <th>4</th>\n",
       "      <td>Sam</td>\n",
       "      <td>25</td>\n",
       "      <td>90</td>\n",
       "    </tr>\n",
       "  </tbody>\n",
       "</table>\n",
       "</div>"
      ],
      "text/plain": [
       "    Name  Age  Marks\n",
       "0   John   20     85\n",
       "1  Alice   22     90\n",
       "2    Bob   21     78\n",
       "3   Sara   23     92\n",
       "4    Sam   25     90"
      ]
     },
     "execution_count": 10,
     "metadata": {},
     "output_type": "execute_result"
    }
   ],
   "source": [
    "df.head()"
   ]
  },
  {
   "cell_type": "code",
   "execution_count": 11,
   "id": "a38e637c-5cf3-4ba3-a676-c38a8abd6ca9",
   "metadata": {},
   "outputs": [
    {
     "data": {
      "text/html": [
       "<div>\n",
       "<style scoped>\n",
       "    .dataframe tbody tr th:only-of-type {\n",
       "        vertical-align: middle;\n",
       "    }\n",
       "\n",
       "    .dataframe tbody tr th {\n",
       "        vertical-align: top;\n",
       "    }\n",
       "\n",
       "    .dataframe thead th {\n",
       "        text-align: right;\n",
       "    }\n",
       "</style>\n",
       "<table border=\"1\" class=\"dataframe\">\n",
       "  <thead>\n",
       "    <tr style=\"text-align: right;\">\n",
       "      <th></th>\n",
       "      <th>patient_id</th>\n",
       "      <th>name</th>\n",
       "      <th>age</th>\n",
       "      <th>arrival_date</th>\n",
       "      <th>departure_date</th>\n",
       "      <th>service</th>\n",
       "      <th>satisfaction</th>\n",
       "    </tr>\n",
       "  </thead>\n",
       "  <tbody>\n",
       "    <tr>\n",
       "      <th>0</th>\n",
       "      <td>PAT-09484753</td>\n",
       "      <td>Richard Rodriguez</td>\n",
       "      <td>24</td>\n",
       "      <td>2025-03-16</td>\n",
       "      <td>2025-03-22</td>\n",
       "      <td>surgery</td>\n",
       "      <td>61</td>\n",
       "    </tr>\n",
       "    <tr>\n",
       "      <th>1</th>\n",
       "      <td>PAT-f0644084</td>\n",
       "      <td>Shannon Walker</td>\n",
       "      <td>6</td>\n",
       "      <td>2025-12-13</td>\n",
       "      <td>2025-12-14</td>\n",
       "      <td>surgery</td>\n",
       "      <td>83</td>\n",
       "    </tr>\n",
       "    <tr>\n",
       "      <th>2</th>\n",
       "      <td>PAT-ac6162e4</td>\n",
       "      <td>Julia Torres</td>\n",
       "      <td>24</td>\n",
       "      <td>2025-06-29</td>\n",
       "      <td>2025-07-05</td>\n",
       "      <td>general_medicine</td>\n",
       "      <td>83</td>\n",
       "    </tr>\n",
       "    <tr>\n",
       "      <th>3</th>\n",
       "      <td>PAT-3dda2bb5</td>\n",
       "      <td>Crystal Johnson</td>\n",
       "      <td>32</td>\n",
       "      <td>2025-10-12</td>\n",
       "      <td>2025-10-23</td>\n",
       "      <td>emergency</td>\n",
       "      <td>81</td>\n",
       "    </tr>\n",
       "    <tr>\n",
       "      <th>4</th>\n",
       "      <td>PAT-08591375</td>\n",
       "      <td>Garrett Lin</td>\n",
       "      <td>25</td>\n",
       "      <td>2025-02-18</td>\n",
       "      <td>2025-02-25</td>\n",
       "      <td>ICU</td>\n",
       "      <td>76</td>\n",
       "    </tr>\n",
       "  </tbody>\n",
       "</table>\n",
       "</div>"
      ],
      "text/plain": [
       "     patient_id               name  age arrival_date departure_date  \\\n",
       "0  PAT-09484753  Richard Rodriguez   24   2025-03-16     2025-03-22   \n",
       "1  PAT-f0644084     Shannon Walker    6   2025-12-13     2025-12-14   \n",
       "2  PAT-ac6162e4       Julia Torres   24   2025-06-29     2025-07-05   \n",
       "3  PAT-3dda2bb5    Crystal Johnson   32   2025-10-12     2025-10-23   \n",
       "4  PAT-08591375        Garrett Lin   25   2025-02-18     2025-02-25   \n",
       "\n",
       "            service  satisfaction  \n",
       "0           surgery            61  \n",
       "1           surgery            83  \n",
       "2  general_medicine            83  \n",
       "3         emergency            81  \n",
       "4               ICU            76  "
      ]
     },
     "execution_count": 11,
     "metadata": {},
     "output_type": "execute_result"
    }
   ],
   "source": [
    "dfpatients.head()"
   ]
  },
  {
   "cell_type": "code",
   "execution_count": 12,
   "id": "7962bc47-b760-4a25-b43a-4956f47b0a72",
   "metadata": {},
   "outputs": [
    {
     "data": {
      "text/html": [
       "<div>\n",
       "<style scoped>\n",
       "    .dataframe tbody tr th:only-of-type {\n",
       "        vertical-align: middle;\n",
       "    }\n",
       "\n",
       "    .dataframe tbody tr th {\n",
       "        vertical-align: top;\n",
       "    }\n",
       "\n",
       "    .dataframe thead th {\n",
       "        text-align: right;\n",
       "    }\n",
       "</style>\n",
       "<table border=\"1\" class=\"dataframe\">\n",
       "  <thead>\n",
       "    <tr style=\"text-align: right;\">\n",
       "      <th></th>\n",
       "      <th>patient_id</th>\n",
       "      <th>name</th>\n",
       "      <th>age</th>\n",
       "      <th>arrival_date</th>\n",
       "      <th>departure_date</th>\n",
       "      <th>service</th>\n",
       "      <th>satisfaction</th>\n",
       "    </tr>\n",
       "  </thead>\n",
       "  <tbody>\n",
       "    <tr>\n",
       "      <th>0</th>\n",
       "      <td>PAT-09484753</td>\n",
       "      <td>Richard Rodriguez</td>\n",
       "      <td>24</td>\n",
       "      <td>2025-03-16</td>\n",
       "      <td>2025-03-22</td>\n",
       "      <td>surgery</td>\n",
       "      <td>61</td>\n",
       "    </tr>\n",
       "    <tr>\n",
       "      <th>1</th>\n",
       "      <td>PAT-f0644084</td>\n",
       "      <td>Shannon Walker</td>\n",
       "      <td>6</td>\n",
       "      <td>2025-12-13</td>\n",
       "      <td>2025-12-14</td>\n",
       "      <td>surgery</td>\n",
       "      <td>83</td>\n",
       "    </tr>\n",
       "  </tbody>\n",
       "</table>\n",
       "</div>"
      ],
      "text/plain": [
       "     patient_id               name  age arrival_date departure_date  service  \\\n",
       "0  PAT-09484753  Richard Rodriguez   24   2025-03-16     2025-03-22  surgery   \n",
       "1  PAT-f0644084     Shannon Walker    6   2025-12-13     2025-12-14  surgery   \n",
       "\n",
       "   satisfaction  \n",
       "0            61  \n",
       "1            83  "
      ]
     },
     "execution_count": 12,
     "metadata": {},
     "output_type": "execute_result"
    }
   ],
   "source": [
    "dfpatients.head(2)"
   ]
  },
  {
   "cell_type": "markdown",
   "id": "f690cb38-ec38-4d8e-8cb2-1f50a1aca632",
   "metadata": {},
   "source": [
    "# tail example"
   ]
  },
  {
   "cell_type": "code",
   "execution_count": 13,
   "id": "5c3e1782-767a-41c6-b804-a6959275a825",
   "metadata": {},
   "outputs": [
    {
     "name": "stdout",
     "output_type": "stream",
     "text": [
      "Last Two students in Excel Sheet\n"
     ]
    },
    {
     "data": {
      "text/html": [
       "<div>\n",
       "<style scoped>\n",
       "    .dataframe tbody tr th:only-of-type {\n",
       "        vertical-align: middle;\n",
       "    }\n",
       "\n",
       "    .dataframe tbody tr th {\n",
       "        vertical-align: top;\n",
       "    }\n",
       "\n",
       "    .dataframe thead th {\n",
       "        text-align: right;\n",
       "    }\n",
       "</style>\n",
       "<table border=\"1\" class=\"dataframe\">\n",
       "  <thead>\n",
       "    <tr style=\"text-align: right;\">\n",
       "      <th></th>\n",
       "      <th>Name</th>\n",
       "      <th>Age</th>\n",
       "      <th>Marks</th>\n",
       "    </tr>\n",
       "  </thead>\n",
       "  <tbody>\n",
       "    <tr>\n",
       "      <th>4</th>\n",
       "      <td>Sam</td>\n",
       "      <td>25</td>\n",
       "      <td>90</td>\n",
       "    </tr>\n",
       "    <tr>\n",
       "      <th>5</th>\n",
       "      <td>Rohit</td>\n",
       "      <td>23</td>\n",
       "      <td>45</td>\n",
       "    </tr>\n",
       "  </tbody>\n",
       "</table>\n",
       "</div>"
      ],
      "text/plain": [
       "    Name  Age  Marks\n",
       "4    Sam   25     90\n",
       "5  Rohit   23     45"
      ]
     },
     "execution_count": 13,
     "metadata": {},
     "output_type": "execute_result"
    }
   ],
   "source": [
    "print('Last Two students in Excel Sheet')\n",
    "df.tail(2)"
   ]
  },
  {
   "cell_type": "code",
   "execution_count": 15,
   "id": "53aa4f4e-3d1c-43d2-a16b-1820f4a14e05",
   "metadata": {},
   "outputs": [
    {
     "data": {
      "text/html": [
       "<div>\n",
       "<style scoped>\n",
       "    .dataframe tbody tr th:only-of-type {\n",
       "        vertical-align: middle;\n",
       "    }\n",
       "\n",
       "    .dataframe tbody tr th {\n",
       "        vertical-align: top;\n",
       "    }\n",
       "\n",
       "    .dataframe thead th {\n",
       "        text-align: right;\n",
       "    }\n",
       "</style>\n",
       "<table border=\"1\" class=\"dataframe\">\n",
       "  <thead>\n",
       "    <tr style=\"text-align: right;\">\n",
       "      <th></th>\n",
       "      <th>patient_id</th>\n",
       "      <th>name</th>\n",
       "      <th>age</th>\n",
       "      <th>arrival_date</th>\n",
       "      <th>departure_date</th>\n",
       "      <th>service</th>\n",
       "      <th>satisfaction</th>\n",
       "    </tr>\n",
       "  </thead>\n",
       "  <tbody>\n",
       "    <tr>\n",
       "      <th>995</th>\n",
       "      <td>PAT-a01bf534</td>\n",
       "      <td>Amber Vang</td>\n",
       "      <td>26</td>\n",
       "      <td>2025-12-02</td>\n",
       "      <td>2025-12-04</td>\n",
       "      <td>emergency</td>\n",
       "      <td>91</td>\n",
       "    </tr>\n",
       "    <tr>\n",
       "      <th>996</th>\n",
       "      <td>PAT-87fa07bd</td>\n",
       "      <td>Martha Smith</td>\n",
       "      <td>89</td>\n",
       "      <td>2025-11-18</td>\n",
       "      <td>2025-11-30</td>\n",
       "      <td>emergency</td>\n",
       "      <td>99</td>\n",
       "    </tr>\n",
       "    <tr>\n",
       "      <th>997</th>\n",
       "      <td>PAT-8f07e894</td>\n",
       "      <td>Jennifer James</td>\n",
       "      <td>72</td>\n",
       "      <td>2025-12-12</td>\n",
       "      <td>2025-12-21</td>\n",
       "      <td>ICU</td>\n",
       "      <td>69</td>\n",
       "    </tr>\n",
       "    <tr>\n",
       "      <th>998</th>\n",
       "      <td>PAT-4ae301e1</td>\n",
       "      <td>Kara Hernandez</td>\n",
       "      <td>47</td>\n",
       "      <td>2025-02-08</td>\n",
       "      <td>2025-02-20</td>\n",
       "      <td>ICU</td>\n",
       "      <td>61</td>\n",
       "    </tr>\n",
       "    <tr>\n",
       "      <th>999</th>\n",
       "      <td>PAT-e2ef9c5f</td>\n",
       "      <td>Lorraine Turner</td>\n",
       "      <td>64</td>\n",
       "      <td>2025-05-04</td>\n",
       "      <td>2025-05-08</td>\n",
       "      <td>general_medicine</td>\n",
       "      <td>83</td>\n",
       "    </tr>\n",
       "  </tbody>\n",
       "</table>\n",
       "</div>"
      ],
      "text/plain": [
       "       patient_id             name  age arrival_date departure_date  \\\n",
       "995  PAT-a01bf534       Amber Vang   26   2025-12-02     2025-12-04   \n",
       "996  PAT-87fa07bd     Martha Smith   89   2025-11-18     2025-11-30   \n",
       "997  PAT-8f07e894   Jennifer James   72   2025-12-12     2025-12-21   \n",
       "998  PAT-4ae301e1   Kara Hernandez   47   2025-02-08     2025-02-20   \n",
       "999  PAT-e2ef9c5f  Lorraine Turner   64   2025-05-04     2025-05-08   \n",
       "\n",
       "              service  satisfaction  \n",
       "995         emergency            91  \n",
       "996         emergency            99  \n",
       "997               ICU            69  \n",
       "998               ICU            61  \n",
       "999  general_medicine            83  "
      ]
     },
     "execution_count": 15,
     "metadata": {},
     "output_type": "execute_result"
    }
   ],
   "source": [
    "dfpatients.tail()"
   ]
  },
  {
   "cell_type": "code",
   "execution_count": 16,
   "id": "b6558839-6304-453f-85ee-352ed68e2dbe",
   "metadata": {},
   "outputs": [
    {
     "data": {
      "text/html": [
       "<div>\n",
       "<style scoped>\n",
       "    .dataframe tbody tr th:only-of-type {\n",
       "        vertical-align: middle;\n",
       "    }\n",
       "\n",
       "    .dataframe tbody tr th {\n",
       "        vertical-align: top;\n",
       "    }\n",
       "\n",
       "    .dataframe thead th {\n",
       "        text-align: right;\n",
       "    }\n",
       "</style>\n",
       "<table border=\"1\" class=\"dataframe\">\n",
       "  <thead>\n",
       "    <tr style=\"text-align: right;\">\n",
       "      <th></th>\n",
       "      <th>patient_id</th>\n",
       "      <th>name</th>\n",
       "      <th>age</th>\n",
       "      <th>arrival_date</th>\n",
       "      <th>departure_date</th>\n",
       "      <th>service</th>\n",
       "      <th>satisfaction</th>\n",
       "    </tr>\n",
       "  </thead>\n",
       "  <tbody>\n",
       "    <tr>\n",
       "      <th>990</th>\n",
       "      <td>PAT-110d5794</td>\n",
       "      <td>Travis Hull</td>\n",
       "      <td>48</td>\n",
       "      <td>2025-11-12</td>\n",
       "      <td>2025-11-18</td>\n",
       "      <td>ICU</td>\n",
       "      <td>89</td>\n",
       "    </tr>\n",
       "    <tr>\n",
       "      <th>991</th>\n",
       "      <td>PAT-c7aac776</td>\n",
       "      <td>Darryl Acosta</td>\n",
       "      <td>83</td>\n",
       "      <td>2025-10-11</td>\n",
       "      <td>2025-10-20</td>\n",
       "      <td>surgery</td>\n",
       "      <td>91</td>\n",
       "    </tr>\n",
       "    <tr>\n",
       "      <th>992</th>\n",
       "      <td>PAT-8700b93a</td>\n",
       "      <td>Nicholas Lawrence</td>\n",
       "      <td>9</td>\n",
       "      <td>2025-10-25</td>\n",
       "      <td>2025-11-02</td>\n",
       "      <td>ICU</td>\n",
       "      <td>92</td>\n",
       "    </tr>\n",
       "    <tr>\n",
       "      <th>993</th>\n",
       "      <td>PAT-e5d6a9cf</td>\n",
       "      <td>Jacob Santos</td>\n",
       "      <td>76</td>\n",
       "      <td>2025-12-27</td>\n",
       "      <td>2026-01-02</td>\n",
       "      <td>ICU</td>\n",
       "      <td>96</td>\n",
       "    </tr>\n",
       "    <tr>\n",
       "      <th>994</th>\n",
       "      <td>PAT-2fa08c0d</td>\n",
       "      <td>Shawn Scott</td>\n",
       "      <td>79</td>\n",
       "      <td>2025-01-22</td>\n",
       "      <td>2025-01-31</td>\n",
       "      <td>emergency</td>\n",
       "      <td>79</td>\n",
       "    </tr>\n",
       "    <tr>\n",
       "      <th>995</th>\n",
       "      <td>PAT-a01bf534</td>\n",
       "      <td>Amber Vang</td>\n",
       "      <td>26</td>\n",
       "      <td>2025-12-02</td>\n",
       "      <td>2025-12-04</td>\n",
       "      <td>emergency</td>\n",
       "      <td>91</td>\n",
       "    </tr>\n",
       "    <tr>\n",
       "      <th>996</th>\n",
       "      <td>PAT-87fa07bd</td>\n",
       "      <td>Martha Smith</td>\n",
       "      <td>89</td>\n",
       "      <td>2025-11-18</td>\n",
       "      <td>2025-11-30</td>\n",
       "      <td>emergency</td>\n",
       "      <td>99</td>\n",
       "    </tr>\n",
       "    <tr>\n",
       "      <th>997</th>\n",
       "      <td>PAT-8f07e894</td>\n",
       "      <td>Jennifer James</td>\n",
       "      <td>72</td>\n",
       "      <td>2025-12-12</td>\n",
       "      <td>2025-12-21</td>\n",
       "      <td>ICU</td>\n",
       "      <td>69</td>\n",
       "    </tr>\n",
       "    <tr>\n",
       "      <th>998</th>\n",
       "      <td>PAT-4ae301e1</td>\n",
       "      <td>Kara Hernandez</td>\n",
       "      <td>47</td>\n",
       "      <td>2025-02-08</td>\n",
       "      <td>2025-02-20</td>\n",
       "      <td>ICU</td>\n",
       "      <td>61</td>\n",
       "    </tr>\n",
       "    <tr>\n",
       "      <th>999</th>\n",
       "      <td>PAT-e2ef9c5f</td>\n",
       "      <td>Lorraine Turner</td>\n",
       "      <td>64</td>\n",
       "      <td>2025-05-04</td>\n",
       "      <td>2025-05-08</td>\n",
       "      <td>general_medicine</td>\n",
       "      <td>83</td>\n",
       "    </tr>\n",
       "  </tbody>\n",
       "</table>\n",
       "</div>"
      ],
      "text/plain": [
       "       patient_id               name  age arrival_date departure_date  \\\n",
       "990  PAT-110d5794        Travis Hull   48   2025-11-12     2025-11-18   \n",
       "991  PAT-c7aac776      Darryl Acosta   83   2025-10-11     2025-10-20   \n",
       "992  PAT-8700b93a  Nicholas Lawrence    9   2025-10-25     2025-11-02   \n",
       "993  PAT-e5d6a9cf       Jacob Santos   76   2025-12-27     2026-01-02   \n",
       "994  PAT-2fa08c0d        Shawn Scott   79   2025-01-22     2025-01-31   \n",
       "995  PAT-a01bf534         Amber Vang   26   2025-12-02     2025-12-04   \n",
       "996  PAT-87fa07bd       Martha Smith   89   2025-11-18     2025-11-30   \n",
       "997  PAT-8f07e894     Jennifer James   72   2025-12-12     2025-12-21   \n",
       "998  PAT-4ae301e1     Kara Hernandez   47   2025-02-08     2025-02-20   \n",
       "999  PAT-e2ef9c5f    Lorraine Turner   64   2025-05-04     2025-05-08   \n",
       "\n",
       "              service  satisfaction  \n",
       "990               ICU            89  \n",
       "991           surgery            91  \n",
       "992               ICU            92  \n",
       "993               ICU            96  \n",
       "994         emergency            79  \n",
       "995         emergency            91  \n",
       "996         emergency            99  \n",
       "997               ICU            69  \n",
       "998               ICU            61  \n",
       "999  general_medicine            83  "
      ]
     },
     "execution_count": 16,
     "metadata": {},
     "output_type": "execute_result"
    }
   ],
   "source": [
    "dfpatients.tail(10)"
   ]
  },
  {
   "cell_type": "markdown",
   "id": "4e0f8d58-b187-42a4-ab10-e771b5268ec8",
   "metadata": {},
   "source": [
    "## shape example shape returns you (rows,columns)"
   ]
  },
  {
   "cell_type": "code",
   "execution_count": 18,
   "id": "2815d7ef-08c9-49f1-a92b-0f639f31c08a",
   "metadata": {},
   "outputs": [
    {
     "data": {
      "text/plain": [
       "(1000, 7)"
      ]
     },
     "execution_count": 18,
     "metadata": {},
     "output_type": "execute_result"
    }
   ],
   "source": [
    "dfpatients.shape"
   ]
  },
  {
   "cell_type": "code",
   "execution_count": 19,
   "id": "3e12786c-da53-437e-b475-be59f473c7be",
   "metadata": {},
   "outputs": [
    {
     "data": {
      "text/plain": [
       "(6, 3)"
      ]
     },
     "execution_count": 19,
     "metadata": {},
     "output_type": "execute_result"
    }
   ],
   "source": [
    "df.shape"
   ]
  },
  {
   "cell_type": "code",
   "execution_count": 21,
   "id": "e3e08d82-4d21-4dea-9e50-cfd9e6fa7dc4",
   "metadata": {},
   "outputs": [
    {
     "data": {
      "text/plain": [
       "(6, 3)"
      ]
     },
     "execution_count": 21,
     "metadata": {},
     "output_type": "execute_result"
    }
   ],
   "source": [
    "df.shape"
   ]
  },
  {
   "cell_type": "code",
   "execution_count": 28,
   "id": "153cdc5c-fdac-49ca-b83b-7d590c63981d",
   "metadata": {},
   "outputs": [
    {
     "name": "stdout",
     "output_type": "stream",
     "text": [
      "Rows: 1000 Columns: 7 \n"
     ]
    }
   ],
   "source": [
    "    r,c=dfpatients.shape\n",
    "    print(f\"Rows: {r} Columns: {c} \")"
   ]
  },
  {
   "cell_type": "code",
   "execution_count": 29,
   "id": "46f446f4-4f20-4574-8492-3ac0ff25c777",
   "metadata": {},
   "outputs": [
    {
     "name": "stdout",
     "output_type": "stream",
     "text": [
      "Rows and Columns in Students Sheet\n",
      "Rows: 6 Columns: 3 \n"
     ]
    }
   ],
   "source": [
    " r,c=df.shape\n",
    "print('Rows and Columns in Students Sheet')\n",
    "print(f\"Rows: {r} Columns: {c} \")"
   ]
  },
  {
   "cell_type": "markdown",
   "id": "49fea2a0-104e-45ff-8e52-018cb45925e6",
   "metadata": {},
   "source": [
    "# values: in dataframe"
   ]
  },
  {
   "cell_type": "code",
   "execution_count": 30,
   "id": "9f7581fd-556c-45a3-8522-0bd3c03a18a5",
   "metadata": {},
   "outputs": [
    {
     "name": "stdout",
     "output_type": "stream",
     "text": [
      "Student Values\n"
     ]
    },
    {
     "data": {
      "text/plain": [
       "array([['John', 20, 85],\n",
       "       ['Alice', 22, 90],\n",
       "       ['Bob', 21, 78],\n",
       "       ['Sara', 23, 92],\n",
       "       ['Sam', 25, 90],\n",
       "       ['Rohit', 23, 45]], dtype=object)"
      ]
     },
     "execution_count": 30,
     "metadata": {},
     "output_type": "execute_result"
    }
   ],
   "source": [
    "print('Student Values')\n",
    "df.values"
   ]
  },
  {
   "cell_type": "code",
   "execution_count": 32,
   "id": "16221d6e-b1ba-44dd-b282-fcdc8f3e53b3",
   "metadata": {},
   "outputs": [
    {
     "name": "stdout",
     "output_type": "stream",
     "text": [
      "Patients Values\n"
     ]
    },
    {
     "data": {
      "text/plain": [
       "array([['PAT-09484753', 'Richard Rodriguez', 24, ..., '2025-03-22',\n",
       "        'surgery', 61],\n",
       "       ['PAT-f0644084', 'Shannon Walker', 6, ..., '2025-12-14',\n",
       "        'surgery', 83],\n",
       "       ['PAT-ac6162e4', 'Julia Torres', 24, ..., '2025-07-05',\n",
       "        'general_medicine', 83],\n",
       "       ...,\n",
       "       ['PAT-8f07e894', 'Jennifer James', 72, ..., '2025-12-21', 'ICU',\n",
       "        69],\n",
       "       ['PAT-4ae301e1', 'Kara Hernandez', 47, ..., '2025-02-20', 'ICU',\n",
       "        61],\n",
       "       ['PAT-e2ef9c5f', 'Lorraine Turner', 64, ..., '2025-05-08',\n",
       "        'general_medicine', 83]], dtype=object)"
      ]
     },
     "execution_count": 32,
     "metadata": {},
     "output_type": "execute_result"
    }
   ],
   "source": [
    "print('Patients Values')\n",
    "dfpatients.values"
   ]
  },
  {
   "cell_type": "code",
   "execution_count": null,
   "id": "161b6ed0-86b3-4e67-8e2a-9e4433b54a9e",
   "metadata": {},
   "outputs": [],
   "source": []
  }
 ],
 "metadata": {
  "kernelspec": {
   "display_name": "Python 3 (ipykernel)",
   "language": "python",
   "name": "python3"
  },
  "language_info": {
   "codemirror_mode": {
    "name": "ipython",
    "version": 3
   },
   "file_extension": ".py",
   "mimetype": "text/x-python",
   "name": "python",
   "nbconvert_exporter": "python",
   "pygments_lexer": "ipython3",
   "version": "3.13.5"
  }
 },
 "nbformat": 4,
 "nbformat_minor": 5
}
