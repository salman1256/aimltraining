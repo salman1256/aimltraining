{
 "cells": [
  {
   "cell_type": "markdown",
   "id": "18f4fab1-c5c3-4a4e-9869-ebd9227b6929",
   "metadata": {},
   "source": [
    "# Numpy Introduction and usage\n",
    "## we will use numpy in this jupyter notebook"
   ]
  },
  {
   "cell_type": "markdown",
   "id": "6ed6949e-0f34-4c24-a5c0-6408919f9e12",
   "metadata": {},
   "source": [
    "## One Dimensional Array (1-D)"
   ]
  },
  {
   "cell_type": "code",
   "execution_count": 1,
   "id": "bc7bafde-b698-43d5-ab25-dcd223dbbc69",
   "metadata": {},
   "outputs": [],
   "source": [
    "import numpy as np"
   ]
  },
  {
   "cell_type": "code",
   "execution_count": 32,
   "id": "be77887b-b0d7-48fa-94e4-e9cc4bb93bcc",
   "metadata": {},
   "outputs": [],
   "source": [
    "array1=np.array([10,20,30,40,50,80])"
   ]
  },
  {
   "cell_type": "code",
   "execution_count": 33,
   "id": "411563d4-9e30-492b-ab37-ad211e4e2933",
   "metadata": {},
   "outputs": [
    {
     "name": "stdout",
     "output_type": "stream",
     "text": [
      "[10 20 30 40 50 80]\n"
     ]
    }
   ],
   "source": [
    "print(array1)"
   ]
  },
  {
   "cell_type": "markdown",
   "id": "f6a7278f-e240-44c7-a8b0-0c0d3e2f4457",
   "metadata": {},
   "source": [
    "## Two Dimensional Array (2-D)"
   ]
  },
  {
   "cell_type": "code",
   "execution_count": 4,
   "id": "60f7c9a2-884d-44a7-8d85-f5739819fda1",
   "metadata": {},
   "outputs": [],
   "source": [
    "array_two=np.array([[10,20,30],[40,50,70]])"
   ]
  },
  {
   "cell_type": "code",
   "execution_count": 5,
   "id": "a849afc3-4635-419d-b9a7-0404c384931a",
   "metadata": {},
   "outputs": [
    {
     "name": "stdout",
     "output_type": "stream",
     "text": [
      "[[10 20 30]\n",
      " [40 50 70]]\n"
     ]
    }
   ],
   "source": [
    "print(array_two)"
   ]
  },
  {
   "cell_type": "markdown",
   "id": "e30a2c50-9ef6-4ee3-b544-c79b9bcec48a",
   "metadata": {},
   "source": [
    "# Three Dimensional Array ( 3-D Array)\n",
    "\n"
   ]
  },
  {
   "cell_type": "code",
   "execution_count": 6,
   "id": "e7297931-ec37-4b7d-a4f8-41b06f62606e",
   "metadata": {},
   "outputs": [],
   "source": [
    "array_three=np.array([[[10,20,30],[40,50,70]],[[10,20,30],[40,50,70]]])"
   ]
  },
  {
   "cell_type": "code",
   "execution_count": 7,
   "id": "56d4b603-8a9e-4026-a953-185e48045906",
   "metadata": {},
   "outputs": [
    {
     "name": "stdout",
     "output_type": "stream",
     "text": [
      "[[[10 20 30]\n",
      "  [40 50 70]]\n",
      "\n",
      " [[10 20 30]\n",
      "  [40 50 70]]]\n"
     ]
    }
   ],
   "source": [
    "print(array_three)"
   ]
  },
  {
   "cell_type": "markdown",
   "id": "1180d1cc-c920-4f2b-b94e-3efdc0a753c7",
   "metadata": {},
   "source": [
    "## Find out Dimension of NumPy array"
   ]
  },
  {
   "cell_type": "code",
   "execution_count": 9,
   "id": "10abf2a8-c6e8-4ad9-9e23-719412d34947",
   "metadata": {},
   "outputs": [
    {
     "name": "stdout",
     "output_type": "stream",
     "text": [
      "First Array Dimension: \t 1\n"
     ]
    }
   ],
   "source": [
    "print('First Array Dimension: \\t', array1.ndim)"
   ]
  },
  {
   "cell_type": "code",
   "execution_count": 12,
   "id": "c34e1c0f-e0f9-4502-8c08-91f3cee57b70",
   "metadata": {},
   "outputs": [
    {
     "name": "stdout",
     "output_type": "stream",
     "text": [
      "Second Array Dimension: \t 2\n"
     ]
    }
   ],
   "source": [
    "print('Second Array Dimension: \\t', array_two.ndim)"
   ]
  },
  {
   "cell_type": "code",
   "execution_count": 13,
   "id": "58b751e4-2972-4435-8d01-df4697f5313f",
   "metadata": {},
   "outputs": [
    {
     "name": "stdout",
     "output_type": "stream",
     "text": [
      "Third Array Dimension: \t 3\n"
     ]
    }
   ],
   "source": [
    "print('Third Array Dimension: \\t', array_three.ndim)"
   ]
  },
  {
   "cell_type": "markdown",
   "id": "a083af89-6384-4a5c-ac5b-2c59a1a532de",
   "metadata": {},
   "source": [
    "# Write an array of 5 students marks using Numpy \n",
    "    ## Makrs are: 80,70,75,99,89"
   ]
  },
  {
   "cell_type": "code",
   "execution_count": 28,
   "id": "413ac3be-8a8d-48e1-952c-4ca697a2738e",
   "metadata": {},
   "outputs": [
    {
     "name": "stdout",
     "output_type": "stream",
     "text": [
      "Array of Marks:\n",
      "[80 70 75 99 89 90]\n"
     ]
    }
   ],
   "source": [
    "array_marks=np.array([80,70,75,99,89,90])\n",
    "print('Array of Marks:')\n",
    "print(array_marks)"
   ]
  },
  {
   "cell_type": "markdown",
   "id": "87e13f75-5ff1-4cc8-b03f-e2946d384ad6",
   "metadata": {},
   "source": [
    "# Write an array: to take Marks of 5 students in 3 subjects  using Numpy\n",
    "## Math, English, Chemistry\n",
    "## [[50,45,49],[40,42,45],[35,40,46],[39,40,45],[48,40,40]]"
   ]
  },
  {
   "cell_type": "code",
   "execution_count": 16,
   "id": "39217b13-1798-4309-86d7-0bbd9571c9d9",
   "metadata": {},
   "outputs": [
    {
     "name": "stdout",
     "output_type": "stream",
     "text": [
      "2 D Array Example\n",
      "[[50 45 49]\n",
      " [40 42 45]\n",
      " [35 40 46]\n",
      " [39 40 45]\n",
      " [48 40 40]]\n"
     ]
    }
   ],
   "source": [
    "marks_subject=np.array([[50,45,49],[40,42,45],[35,40,46],[39,40,45],[48,40,40]])\n",
    "print('2 D Array Example')\n",
    "print(marks_subject)"
   ]
  },
  {
   "cell_type": "markdown",
   "id": "0b5ea855-8308-4c7d-8ced-82e51e6d3fdd",
   "metadata": {},
   "source": [
    "# Write an array: to take Marks of 4 students in 3 subjects for two semester using Numpy\n",
    "     ## Students Name are: 'Amit','Sha','Xi','Arif'\n",
    "     ## Math, English, Chemistry\n",
    "     ## Two Semester : Sem1 , Sem2\n",
    "     ## 4*3*2\n",
    "     ## ([[[85, 88],[78, 82],[90, 95]] , [[76, 70],[40, 45],[90, 90]] ,[[80, 86],[78, 82],[90, 95]],[[85, 88],[78, 82],[70, 90]]])\n"
   ]
  },
  {
   "cell_type": "code",
   "execution_count": 22,
   "id": "7f3486c9-8bdb-4dac-8ead-07d2ff22d43e",
   "metadata": {},
   "outputs": [],
   "source": [
    "marks_subject_sem=np.array([\n",
    "    [[85, 88],[78, 82],[90, 95]] , \n",
    "    [[76, 70],[40, 45],[90, 90]],\n",
    "    [[80, 86],[78, 82],[90, 95]],\n",
    "    [[85, 88],[78, 82],[70, 90]]\n",
    "])\n"
   ]
  },
  {
   "cell_type": "code",
   "execution_count": 23,
   "id": "06cb717e-fc1a-4600-8a2b-7f078a64b829",
   "metadata": {},
   "outputs": [
    {
     "name": "stdout",
     "output_type": "stream",
     "text": [
      "[[[85 88]\n",
      "  [78 82]\n",
      "  [90 95]]\n",
      "\n",
      " [[76 70]\n",
      "  [40 45]\n",
      "  [90 90]]\n",
      "\n",
      " [[80 86]\n",
      "  [78 82]\n",
      "  [90 95]]\n",
      "\n",
      " [[85 88]\n",
      "  [78 82]\n",
      "  [70 90]]]\n"
     ]
    }
   ],
   "source": [
    "print (marks_subject_sem)"
   ]
  },
  {
   "cell_type": "markdown",
   "id": "815fe3fb-0309-4617-bc2c-fbfd80a40c59",
   "metadata": {},
   "source": [
    "# Write an array: to take wheather  of 2 cities in 3 days for three times in a day morning, noon ,evening\n",
    "     ## Cities Name are: Kuala Lumpur, Delhi\n",
    "     ## Saturday, Sunday, Monday\n",
    "     ## Three Time Slot : Morning, Noon, Evening\n",
    "     ## Kuala Lumpur :[[25,30,28],[24,28,25],[30,32,30]]\n",
    "      ## Delhi:[[30,35,30],[32,34,30],[28,31,30]]\n",
    "      ## [[[25,30,28],[24,28,25],[30,32,30]],[[30,35,30],[32,34,30],[28,31,30]]]\n",
    "# Create one 3 D Array for this using NumPy and print it\n"
   ]
  },
  {
   "cell_type": "code",
   "execution_count": 40,
   "id": "71f7ee39-7949-4ab8-8fc9-492f715dfc79",
   "metadata": {},
   "outputs": [],
   "source": [
    "wheather_array=np.array([[[25,30,28],[24,28,25],[30,32,30]],[[30,35,30],[32,34,30],[28,31,30]]])"
   ]
  },
  {
   "cell_type": "code",
   "execution_count": 41,
   "id": "9c6b2b39-afad-440d-a975-8788356e58c6",
   "metadata": {},
   "outputs": [
    {
     "name": "stdout",
     "output_type": "stream",
     "text": [
      "[[[25 30 28]\n",
      "  [24 28 25]\n",
      "  [30 32 30]]\n",
      "\n",
      " [[30 35 30]\n",
      "  [32 34 30]\n",
      "  [28 31 30]]]\n"
     ]
    }
   ],
   "source": [
    "print(wheather_array)"
   ]
  },
  {
   "cell_type": "markdown",
   "id": "a4e2affa-6cc5-455a-98db-728bea5c76f5",
   "metadata": {},
   "source": [
    "# Basic Information\n",
    "    ## shape: rows and columns\n",
    "    ## Size : number of elements\n",
    "    ## Dimension: return dimension 1, 2, 3....\n",
    "    ## Data Type: return stored data values type\n",
    "    "
   ]
  },
  {
   "cell_type": "code",
   "execution_count": 35,
   "id": "9af84020-166e-4382-9df4-f78989099d7b",
   "metadata": {},
   "outputs": [
    {
     "name": "stdout",
     "output_type": "stream",
     "text": [
      "[10 20 30 40 50 80]\n"
     ]
    }
   ],
   "source": [
    "print(array1)"
   ]
  },
  {
   "cell_type": "code",
   "execution_count": 34,
   "id": "a7c30fa9-dffa-4e2d-a76a-a472eebd2423",
   "metadata": {},
   "outputs": [
    {
     "name": "stdout",
     "output_type": "stream",
     "text": [
      "Shape of array1 :  (6,)\n"
     ]
    }
   ],
   "source": [
    "print(\"Shape of array1 : \",array1.shape)"
   ]
  },
  {
   "cell_type": "code",
   "execution_count": 36,
   "id": "693fe360-6c77-4938-a300-486295d81986",
   "metadata": {},
   "outputs": [
    {
     "name": "stdout",
     "output_type": "stream",
     "text": [
      "Size of array1 :  6\n"
     ]
    }
   ],
   "source": [
    "print(\"Size of array1 : \",array1.size)"
   ]
  },
  {
   "cell_type": "code",
   "execution_count": 44,
   "id": "d18152ee-511c-4086-a196-bcec35aaea32",
   "metadata": {},
   "outputs": [
    {
     "name": "stdout",
     "output_type": "stream",
     "text": [
      "Dimension :  1\n"
     ]
    }
   ],
   "source": [
    "print ('Dimension : ',array1.ndim)"
   ]
  },
  {
   "cell_type": "code",
   "execution_count": 45,
   "id": "1c851563-06ce-4adf-970e-e369e2262db0",
   "metadata": {},
   "outputs": [
    {
     "name": "stdout",
     "output_type": "stream",
     "text": [
      "Data Type :  int64\n"
     ]
    }
   ],
   "source": [
    "print ('Data Type : ',array1.dtype)"
   ]
  },
  {
   "cell_type": "code",
   "execution_count": 51,
   "id": "feee2d08-e73b-4aa0-8930-4aaa3e72e9f1",
   "metadata": {},
   "outputs": [],
   "source": [
    "students=np.array(['Ali Munaf Bin Kabir','Shi','Xi','Meena','Ziva'])"
   ]
  },
  {
   "cell_type": "code",
   "execution_count": 52,
   "id": "be676739-e24a-4d2a-96bf-2fc9320d9799",
   "metadata": {},
   "outputs": [
    {
     "name": "stdout",
     "output_type": "stream",
     "text": [
      "['Ali Munaf Bin Kabir' 'Shi' 'Xi' 'Meena' 'Ziva']\n"
     ]
    }
   ],
   "source": [
    "print(students)"
   ]
  },
  {
   "cell_type": "code",
   "execution_count": 53,
   "id": "f1030483-fd31-469a-acd9-f98195e5e8eb",
   "metadata": {},
   "outputs": [
    {
     "name": "stdout",
     "output_type": "stream",
     "text": [
      "Shape of Array :  (5,)\n"
     ]
    }
   ],
   "source": [
    "print(\"Shape of Array : \",students.shape)"
   ]
  },
  {
   "cell_type": "code",
   "execution_count": 54,
   "id": "5289fcb9-3681-4876-a156-2f1622d4c729",
   "metadata": {},
   "outputs": [
    {
     "name": "stdout",
     "output_type": "stream",
     "text": [
      "Number of students 5\n"
     ]
    }
   ],
   "source": [
    "print('Number of students',students.size)"
   ]
  },
  {
   "cell_type": "code",
   "execution_count": 55,
   "id": "f0b5b6ba-4086-40a5-a278-0c0e743faf58",
   "metadata": {},
   "outputs": [
    {
     "name": "stdout",
     "output_type": "stream",
     "text": [
      "Data Type:  <U19\n"
     ]
    }
   ],
   "source": [
    "print('Data Type: ',students.dtype)"
   ]
  },
  {
   "cell_type": "markdown",
   "id": "a14692a1-3761-429b-9256-8c490590760d",
   "metadata": {},
   "source": [
    "# Mathematical Operation"
   ]
  },
  {
   "cell_type": "code",
   "execution_count": 56,
   "id": "c611dc32-ba34-466f-9c13-47efb864f20f",
   "metadata": {},
   "outputs": [
    {
     "name": "stdout",
     "output_type": "stream",
     "text": [
      "[10 20 30 40 50 80]\n"
     ]
    }
   ],
   "source": [
    "print(array1)"
   ]
  },
  {
   "cell_type": "code",
   "execution_count": 57,
   "id": "8b8cd95e-fc25-4262-8104-4de4775d50e9",
   "metadata": {},
   "outputs": [],
   "source": [
    "total=np.sum(array1)"
   ]
  },
  {
   "cell_type": "code",
   "execution_count": 58,
   "id": "fbf7fdc8-4525-4d9d-aca9-07e0b0769f49",
   "metadata": {},
   "outputs": [
    {
     "name": "stdout",
     "output_type": "stream",
     "text": [
      "230\n"
     ]
    }
   ],
   "source": [
    "print(total)"
   ]
  },
  {
   "cell_type": "code",
   "execution_count": 59,
   "id": "6061980d-26b4-480f-bf66-e24accfe63d2",
   "metadata": {},
   "outputs": [
    {
     "name": "stdout",
     "output_type": "stream",
     "text": [
      "Mean:  38.333333333333336\n"
     ]
    }
   ],
   "source": [
    "print('Mean: ',np.mean(array1))"
   ]
  },
  {
   "cell_type": "code",
   "execution_count": 60,
   "id": "684350c1-6c39-4a88-be2c-9c236cfc30dc",
   "metadata": {},
   "outputs": [
    {
     "name": "stdout",
     "output_type": "stream",
     "text": [
      "Min:  10\n"
     ]
    }
   ],
   "source": [
    "print('Min: ',np.min(array1))"
   ]
  },
  {
   "cell_type": "code",
   "execution_count": 61,
   "id": "4a8cf04d-415c-41d2-9633-8c70e2f6404a",
   "metadata": {},
   "outputs": [
    {
     "name": "stdout",
     "output_type": "stream",
     "text": [
      "Max:  10\n"
     ]
    }
   ],
   "source": [
    "print('Max: ',np.min(array1))"
   ]
  },
  {
   "cell_type": "code",
   "execution_count": 62,
   "id": "e67ce1ab-6cf8-43f7-8a11-af04ccb742ca",
   "metadata": {},
   "outputs": [
    {
     "name": "stdout",
     "output_type": "stream",
     "text": [
      "Index of Min:  0\n"
     ]
    }
   ],
   "source": [
    "print('Index of Min: ',np.argmin(array1))"
   ]
  },
  {
   "cell_type": "code",
   "execution_count": 63,
   "id": "f6317457-5e23-46b7-b951-952fac6dbff8",
   "metadata": {},
   "outputs": [
    {
     "name": "stdout",
     "output_type": "stream",
     "text": [
      "Index of Max:  5\n"
     ]
    }
   ],
   "source": [
    "print('Index of Max: ',np.argmax(array1))"
   ]
  },
  {
   "cell_type": "code",
   "execution_count": 66,
   "id": "9d3ae973-1129-487c-a6f0-1d4babad83ea",
   "metadata": {},
   "outputs": [],
   "source": [
    "our_arr=np.array([100,200,300,7000,400,500,300,1900,600])"
   ]
  },
  {
   "cell_type": "code",
   "execution_count": 67,
   "id": "63e0e734-32ab-4876-9b56-56d48c438aba",
   "metadata": {},
   "outputs": [
    {
     "name": "stdout",
     "output_type": "stream",
     "text": [
      "[ 100  200  300 7000  400  500  300 1900  600]\n"
     ]
    }
   ],
   "source": [
    "print(our_arr)"
   ]
  },
  {
   "cell_type": "markdown",
   "id": "43977a46-6327-4aee-84c1-4b14cdbfe466",
   "metadata": {},
   "source": [
    "# Searching and Sorting Example in 1 D Array"
   ]
  },
  {
   "cell_type": "code",
   "execution_count": 70,
   "id": "413db5e6-5973-45eb-a31b-fe154cf6a177",
   "metadata": {},
   "outputs": [
    {
     "name": "stdout",
     "output_type": "stream",
     "text": [
      "*** Sorted Array \n",
      "[ 100  200  300  300  400  500  600 1900 7000]\n"
     ]
    }
   ],
   "source": [
    "sorted_arr=np.sort(our_arr)\n",
    "print('*** Sorted Array ')\n",
    "print(sorted_arr)"
   ]
  },
  {
   "cell_type": "code",
   "execution_count": 72,
   "id": "452c08d9-213c-40ba-acc2-9b647a9ec31d",
   "metadata": {},
   "outputs": [
    {
     "name": "stdout",
     "output_type": "stream",
     "text": [
      "Is there any item greater than 500 ?:  True\n"
     ]
    }
   ],
   "source": [
    "print('Is there any item greater than 500 ?: ',np.any(sorted_arr>500))"
   ]
  },
  {
   "cell_type": "code",
   "execution_count": 73,
   "id": "bdf48ada-741c-43e7-a0fa-503b7c458797",
   "metadata": {},
   "outputs": [
    {
     "name": "stdout",
     "output_type": "stream",
     "text": [
      "All greater than 500 ?:  False\n"
     ]
    }
   ],
   "source": [
    "print('All greater than 500 ?: ',np.all(sorted_arr>500))"
   ]
  },
  {
   "cell_type": "code",
   "execution_count": 75,
   "id": "e878435b-dfa2-4000-9e8c-6747de948ebe",
   "metadata": {},
   "outputs": [
    {
     "name": "stdout",
     "output_type": "stream",
     "text": [
      "All greater than 99 ?:  True\n"
     ]
    }
   ],
   "source": [
    "print('All greater than 99 ?: ',np.all(sorted_arr>99))"
   ]
  },
  {
   "cell_type": "code",
   "execution_count": 76,
   "id": "95d9314d-8424-46a5-a67b-11feee89d326",
   "metadata": {},
   "outputs": [
    {
     "name": "stdout",
     "output_type": "stream",
     "text": [
      "Where values >500 (array([6, 7, 8]),)\n"
     ]
    }
   ],
   "source": [
    "print('Where values >500',np.where(sorted_arr>500))"
   ]
  },
  {
   "cell_type": "code",
   "execution_count": 79,
   "id": "218f4885-b2f6-43ed-9287-b5ea0679eb52",
   "metadata": {},
   "outputs": [
    {
     "name": "stdout",
     "output_type": "stream",
     "text": [
      "All Number greater than 500\n",
      "[6 7 8]\n"
     ]
    }
   ],
   "source": [
    "print('All Number greater than 500')\n",
    "for num in np.where(sorted_arr>500):\n",
    "    print (num)"
   ]
  },
  {
   "cell_type": "code",
   "execution_count": 80,
   "id": "b09ae744-079e-4031-a76d-6716c887b062",
   "metadata": {},
   "outputs": [
    {
     "name": "stdout",
     "output_type": "stream",
     "text": [
      "[ 100  200  300 7000  400  500  300 1900  600]\n"
     ]
    }
   ],
   "source": [
    "print(our_arr)"
   ]
  },
  {
   "cell_type": "code",
   "execution_count": 84,
   "id": "dc0ca1de-62ca-4d2b-9839-1cee44b727d1",
   "metadata": {},
   "outputs": [
    {
     "name": "stdout",
     "output_type": "stream",
     "text": [
      "100\n"
     ]
    }
   ],
   "source": [
    "print(np.min(our_arr))"
   ]
  },
  {
   "cell_type": "code",
   "execution_count": 86,
   "id": "e34d9fe2-1c43-4352-940c-9de97f994961",
   "metadata": {},
   "outputs": [
    {
     "name": "stdout",
     "output_type": "stream",
     "text": [
      "Index of Min:  0\n"
     ]
    }
   ],
   "source": [
    "print('Index of Min: ',np.argmin(our_arr))"
   ]
  },
  {
   "cell_type": "code",
   "execution_count": 89,
   "id": "906e4ee5-a8a1-4b13-9ded-b837287dbd31",
   "metadata": {},
   "outputs": [
    {
     "name": "stdout",
     "output_type": "stream",
     "text": [
      "Index of Max 8\n"
     ]
    }
   ],
   "source": [
    "print('Index of Max',np.argmax(sorted_arr))"
   ]
  },
  {
   "cell_type": "code",
   "execution_count": 90,
   "id": "586df583-1633-490f-95a7-f176ab80413a",
   "metadata": {},
   "outputs": [
    {
     "name": "stdout",
     "output_type": "stream",
     "text": [
      "All Number greater than 500\n",
      "False\n",
      "False\n",
      "False\n",
      "False\n",
      "False\n",
      "False\n",
      "True\n",
      "True\n",
      "True\n"
     ]
    }
   ],
   "source": [
    "print('All Number greater than 500')\n",
    "for num in sorted_arr>500:\n",
    "    print (num)"
   ]
  },
  {
   "cell_type": "code",
   "execution_count": 91,
   "id": "fd0fa60b-f077-4fe1-a6fa-401f325510a2",
   "metadata": {},
   "outputs": [],
   "source": [
    "selected_values=sorted_arr[sorted_arr>500]"
   ]
  },
  {
   "cell_type": "code",
   "execution_count": 92,
   "id": "96d1b164-b61e-422d-815b-cb1bdee59012",
   "metadata": {},
   "outputs": [
    {
     "name": "stdout",
     "output_type": "stream",
     "text": [
      "[ 600 1900 7000]\n"
     ]
    }
   ],
   "source": [
    "print(selected_values)"
   ]
  },
  {
   "cell_type": "code",
   "execution_count": 94,
   "id": "8fbcf841-6449-4ee4-8912-af9751039805",
   "metadata": {},
   "outputs": [
    {
     "name": "stdout",
     "output_type": "stream",
     "text": [
      "600\n",
      "1900\n",
      "7000\n"
     ]
    }
   ],
   "source": [
    "for num in selected_values:\n",
    "    print (num)"
   ]
  },
  {
   "cell_type": "code",
   "execution_count": 95,
   "id": "5ff6d206-d5c7-4887-8e32-074c98302bee",
   "metadata": {},
   "outputs": [
    {
     "name": "stdout",
     "output_type": "stream",
     "text": [
      "600\n",
      "1900\n",
      "7000\n"
     ]
    }
   ],
   "source": [
    "for num in sorted_arr[sorted_arr>500]:\n",
    "    print(num)"
   ]
  },
  {
   "cell_type": "code",
   "execution_count": 96,
   "id": "3c8cba08-8737-42df-abdd-49f4d0250508",
   "metadata": {},
   "outputs": [
    {
     "name": "stdout",
     "output_type": "stream",
     "text": [
      "  [ 600 1900 7000]\n"
     ]
    }
   ],
   "source": [
    "print(' ',sorted_arr[sorted_arr>500])"
   ]
  },
  {
   "cell_type": "markdown",
   "id": "8f3124e1-f3ab-436b-a34b-ca258de2bf62",
   "metadata": {},
   "source": [
    "# Slicing  1 D Array\n",
    "     1. To take elements from starting index to end index\n",
    "     2. e.g. [start:end]\n",
    "     "
   ]
  },
  {
   "cell_type": "code",
   "execution_count": 124,
   "id": "b90c1ade-279c-406a-a239-43df9bf6d976",
   "metadata": {},
   "outputs": [
    {
     "name": "stdout",
     "output_type": "stream",
     "text": [
      "[ 100  200  300  300  400  500  600 1900 7000]\n"
     ]
    }
   ],
   "source": [
    "print(sorted_arr)"
   ]
  },
  {
   "cell_type": "code",
   "execution_count": 125,
   "id": "b558c1ed-9db3-41d6-85dd-587744f4de42",
   "metadata": {},
   "outputs": [
    {
     "name": "stdout",
     "output_type": "stream",
     "text": [
      "[200 300]\n"
     ]
    }
   ],
   "source": [
    "slice_sorted_arr=sorted_arr[1:3]\n",
    "print(slice_sorted_arr)"
   ]
  },
  {
   "cell_type": "markdown",
   "id": "4a734236-87c0-4654-82fc-0f2a6e0fe9f9",
   "metadata": {},
   "source": [
    "# starting from an index and going till last"
   ]
  },
  {
   "cell_type": "code",
   "execution_count": 126,
   "id": "cf4e86e1-b202-4b6c-a462-843690d2ab9b",
   "metadata": {},
   "outputs": [
    {
     "name": "stdout",
     "output_type": "stream",
     "text": [
      "[ 300  400  500  600 1900 7000]\n"
     ]
    }
   ],
   "source": [
    "print(sorted_arr[3:])"
   ]
  },
  {
   "cell_type": "code",
   "execution_count": 130,
   "id": "ffb08bee-aed6-4265-b7d3-276a10882e44",
   "metadata": {},
   "outputs": [
    {
     "name": "stdout",
     "output_type": "stream",
     "text": [
      "[100 200 300 300]\n"
     ]
    }
   ],
   "source": [
    "print(sorted_arr[:4])"
   ]
  },
  {
   "cell_type": "code",
   "execution_count": 131,
   "id": "9e661355-6787-47d7-b147-d0796f89ebd9",
   "metadata": {},
   "outputs": [
    {
     "name": "stdout",
     "output_type": "stream",
     "text": [
      "[100 200 300 300 400]\n"
     ]
    }
   ],
   "source": [
    "print(sorted_arr[:5])"
   ]
  },
  {
   "cell_type": "markdown",
   "id": "07c2c6d6-e225-4bec-b230-d551130af310",
   "metadata": {},
   "source": [
    "# step\n",
    "    ## [start:end:step]\n",
    "    ## step: every step element"
   ]
  },
  {
   "cell_type": "code",
   "execution_count": 132,
   "id": "502b43d7-8abb-436b-bf15-f090dd97a120",
   "metadata": {},
   "outputs": [
    {
     "name": "stdout",
     "output_type": "stream",
     "text": [
      "[200 300 500]\n"
     ]
    }
   ],
   "source": [
    "our_slice=sorted_arr[1:6:2]\n",
    "print(our_slice)"
   ]
  },
  {
   "cell_type": "code",
   "execution_count": 136,
   "id": "7f7952a9-e63d-4563-877a-53bcacd5f83f",
   "metadata": {},
   "outputs": [
    {
     "name": "stdout",
     "output_type": "stream",
     "text": [
      "Original Array\n",
      "[ 100  200  300  300  400  500  600 1900 7000]\n",
      "Every Third Element\n",
      "[100 300 600]\n"
     ]
    }
   ],
   "source": [
    "print('Original Array')\n",
    "print(sorted_arr)\n",
    "print('Every Third Element')\n",
    "every_third_element=sorted_arr[::3]\n",
    "print(every_third_element)"
   ]
  },
  {
   "cell_type": "markdown",
   "id": "4997aefe-2d8a-4d93-a54a-844f9aea52dc",
   "metadata": {},
   "source": [
    "# Slice Reverse"
   ]
  },
  {
   "cell_type": "code",
   "execution_count": 139,
   "id": "e8d9b0f3-0e05-42c6-8172-48b6cf348e76",
   "metadata": {},
   "outputs": [
    {
     "name": "stdout",
     "output_type": "stream",
     "text": [
      "Original Array\n",
      "[ 100  200  300  300  400  500  600 1900 7000]\n",
      "Revers Array: \n",
      "[7000 1900  600  500  400  300  300  200  100]\n"
     ]
    }
   ],
   "source": [
    "print('Original Array')\n",
    "print(sorted_arr)\n",
    "print('Revers Array: ')\n",
    "print(sorted_arr[::-1])\n"
   ]
  },
  {
   "cell_type": "code",
   "execution_count": 140,
   "id": "48a9d332-d9bc-43f9-986e-407ef7fcc24f",
   "metadata": {},
   "outputs": [
    {
     "name": "stdout",
     "output_type": "stream",
     "text": [
      "Last five elements\n",
      "[ 400  500  600 1900 7000]\n"
     ]
    }
   ],
   "source": [
    "print('Last five elements')\n",
    "print(sorted_arr[-5:])"
   ]
  },
  {
   "cell_type": "code",
   "execution_count": 143,
   "id": "c265d99a-7766-46ef-ab09-0968519ad306",
   "metadata": {},
   "outputs": [
    {
     "name": "stdout",
     "output_type": "stream",
     "text": [
      "Slicing Done\n"
     ]
    }
   ],
   "source": [
    "print('Slicing Done')"
   ]
  },
  {
   "cell_type": "code",
   "execution_count": null,
   "id": "6ce83dd9-90de-46a4-9a00-0423e2f15aa3",
   "metadata": {},
   "outputs": [],
   "source": []
  }
 ],
 "metadata": {
  "kernelspec": {
   "display_name": "Python 3 (ipykernel)",
   "language": "python",
   "name": "python3"
  },
  "language_info": {
   "codemirror_mode": {
    "name": "ipython",
    "version": 3
   },
   "file_extension": ".py",
   "mimetype": "text/x-python",
   "name": "python",
   "nbconvert_exporter": "python",
   "pygments_lexer": "ipython3",
   "version": "3.13.5"
  }
 },
 "nbformat": 4,
 "nbformat_minor": 5
}
