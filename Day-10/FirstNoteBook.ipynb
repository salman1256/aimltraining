{
 "cells": [
  {
   "cell_type": "markdown",
   "id": "3390fd9a-5a25-4d29-89fd-fbc5c257f51f",
   "metadata": {},
   "source": [
    "# First Note Book\n",
    "## Steps to Print a Single Line\n",
    "    We will create Code Cell\n",
    "    We will write print command\n",
    "    We will run the cell"
   ]
  },
  {
   "cell_type": "code",
   "execution_count": 1,
   "id": "f531d2b6-deed-4a2f-b576-ea463978ea77",
   "metadata": {},
   "outputs": [
    {
     "name": "stdout",
     "output_type": "stream",
     "text": [
      "Welcome to  Python Note Book\n"
     ]
    }
   ],
   "source": [
    "print('Welcome to  Python Note Book')"
   ]
  },
  {
   "cell_type": "markdown",
   "id": "cf0ac5af-4d3c-4ce7-9ad9-2f3c09b1e9d3",
   "metadata": {},
   "source": [
    "## For loop example "
   ]
  },
  {
   "cell_type": "code",
   "execution_count": 3,
   "id": "2dfd70c9-92be-40a4-a813-ced4ff418037",
   "metadata": {},
   "outputs": [
    {
     "name": "stdout",
     "output_type": "stream",
     "text": [
      "1\t2\t3\t4\t5\t6\t7\t8\t9\t10\t11\t12\t13\t14\t15\t16\t17\t18\t19\t20\t21\t22\t23\t24\t25\t26\t27\t28\t29\t30\t31\t32\t33\t34\t35\t36\t37\t38\t39\t40\t41\t42\t43\t44\t45\t46\t47\t48\t49\t50\t51\t52\t53\t54\t55\t56\t57\t58\t59\t60\t61\t62\t63\t64\t65\t66\t67\t68\t69\t70\t71\t72\t73\t74\t75\t76\t77\t78\t79\t80\t81\t82\t83\t84\t85\t86\t87\t88\t89\t90\t91\t92\t93\t94\t95\t96\t97\t98\t99\t100\t"
     ]
    }
   ],
   "source": [
    "for num in range(1,101):\n",
    "    print(num,end=\"\\t\")"
   ]
  },
  {
   "cell_type": "code",
   "execution_count": 14,
   "id": "0a9efc66-268c-41da-adbc-26d78621fc78",
   "metadata": {},
   "outputs": [],
   "source": [
    "players=('MS.Dhoni','Moin Ali','Rashid Khan','Sunil Naren')"
   ]
  },
  {
   "cell_type": "code",
   "execution_count": 15,
   "id": "d26afe26-4d02-4922-91fb-319e517252d7",
   "metadata": {},
   "outputs": [
    {
     "name": "stdout",
     "output_type": "stream",
     "text": [
      "MS.Dhoni\n",
      "Moin Ali\n",
      "Rashid Khan\n",
      "Sunil Naren\n"
     ]
    }
   ],
   "source": [
    "for player in players:\n",
    "    print(player)"
   ]
  },
  {
   "cell_type": "code",
   "execution_count": 16,
   "id": "33ced7a3-4337-46fa-a230-0d2048ca0c9e",
   "metadata": {},
   "outputs": [
    {
     "name": "stdout",
     "output_type": "stream",
     "text": [
      "Welcome\n"
     ]
    }
   ],
   "source": [
    "print('Welcome')"
   ]
  },
  {
   "cell_type": "code",
   "execution_count": 17,
   "id": "84255055-4da8-4ce9-b22a-276aa931d2e4",
   "metadata": {},
   "outputs": [
    {
     "name": "stdout",
     "output_type": "stream",
     "text": [
      "Welcome Again\n",
      "One More Thing\n"
     ]
    }
   ],
   "source": [
    "print('Welcome Again')\n",
    "print('One More Thing')"
   ]
  }
 ],
 "metadata": {
  "kernelspec": {
   "display_name": "Python 3 (ipykernel)",
   "language": "python",
   "name": "python3"
  },
  "language_info": {
   "codemirror_mode": {
    "name": "ipython",
    "version": 3
   },
   "file_extension": ".py",
   "mimetype": "text/x-python",
   "name": "python",
   "nbconvert_exporter": "python",
   "pygments_lexer": "ipython3",
   "version": "3.13.5"
  }
 },
 "nbformat": 4,
 "nbformat_minor": 5
}
