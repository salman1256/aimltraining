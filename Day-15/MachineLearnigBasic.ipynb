{
 "cells": [
  {
   "cell_type": "code",
   "execution_count": 2,
   "id": "14fbbeea-e5e6-48c0-89f0-a4ed95a687fe",
   "metadata": {},
   "outputs": [],
   "source": [
    "import pandas as pd\n",
    "from sklearn.model_selection import train_test_split\n",
    "from sklearn.linear_model import LinearRegression"
   ]
  },
  {
   "cell_type": "code",
   "execution_count": 8,
   "id": "2830408e-3afd-421d-8026-169bc9a65355",
   "metadata": {},
   "outputs": [],
   "source": [
    "data = {\n",
    "    'Hours': [1, 2, 3, 4, 5, 6, 7, 8],\n",
    "    'Marks': [25, 35, 45, 50, 55, 65, 70,80]\n",
    "}\n",
    "df = pd.DataFrame(data)\n"
   ]
  },
  {
   "cell_type": "code",
   "execution_count": 27,
   "id": "a199d221-efa7-44cc-919d-83c45af76feb",
   "metadata": {},
   "outputs": [],
   "source": [
    "# Step 3: Define Features and Target\n",
    "X = df[['Hours']]\n",
    "y = df['Marks']\n"
   ]
  },
  {
   "cell_type": "code",
   "execution_count": 44,
   "id": "74422103-8c44-4d57-9ab1-2f9f13357f37",
   "metadata": {},
   "outputs": [
    {
     "name": "stdout",
     "output_type": "stream",
     "text": [
      "Training samples: 1\n",
      "Testing samples: 7\n"
     ]
    }
   ],
   "source": [
    "# Step 4: Split Data into Train & Test Sets\n",
    "X_train, X_test, y_train, y_test = train_test_split(X, y, test_size=0.2, random_state=0)\n",
    "print(\"Training samples:\", len(X_train))\n",
    "print(\"Testing samples:\", len(X_test))"
   ]
  },
  {
   "cell_type": "code",
   "execution_count": 28,
   "id": "94f81404-b836-491d-a4a2-f50ad6659297",
   "metadata": {},
   "outputs": [
    {
     "name": "stdout",
     "output_type": "stream",
     "text": [
      "Model trained successfully!\n"
     ]
    }
   ],
   "source": [
    "#Step:5create the model and  # Step 6: Train the Model\n",
    "model = LinearRegression()\n",
    "model.fit(X_train, y_train)\n",
    "print(\"Model trained successfully!\")"
   ]
  },
  {
   "cell_type": "code",
   "execution_count": 47,
   "id": "ece7182a-081e-4a4e-86e9-b1e4935a73b4",
   "metadata": {},
   "outputs": [
    {
     "name": "stdout",
     "output_type": "stream",
     "text": [
      "Actual: [np.int64(70), np.int64(45), np.int64(35), np.int64(80), np.int64(50), np.int64(25), np.int64(65)]\n",
      "Predicted: [np.float64(72.19999999999999), np.float64(41.4), np.float64(33.7), np.float64(79.89999999999999), np.float64(49.099999999999994), np.float64(26.000000000000004), np.float64(64.5)]\n"
     ]
    }
   ],
   "source": [
    "y_pred = model.predict(X_test)\n",
    "print(\"Actual:\", list(y_test.values))\n",
    "print(\"Predicted:\", list(y_pred))\n"
   ]
  },
  {
   "cell_type": "code",
   "execution_count": null,
   "id": "8352e0fa-7d12-45fa-b636-54503b8cc9e1",
   "metadata": {},
   "outputs": [],
   "source": []
  }
 ],
 "metadata": {
  "kernelspec": {
   "display_name": "Python 3 (ipykernel)",
   "language": "python",
   "name": "python3"
  },
  "language_info": {
   "codemirror_mode": {
    "name": "ipython",
    "version": 3
   },
   "file_extension": ".py",
   "mimetype": "text/x-python",
   "name": "python",
   "nbconvert_exporter": "python",
   "pygments_lexer": "ipython3",
   "version": "3.13.5"
  }
 },
 "nbformat": 4,
 "nbformat_minor": 5
}
